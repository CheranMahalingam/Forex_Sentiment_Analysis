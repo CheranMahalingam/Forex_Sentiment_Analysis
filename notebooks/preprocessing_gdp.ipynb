{
 "cells": [
  {
   "cell_type": "code",
   "execution_count": 1,
   "metadata": {},
   "outputs": [],
   "source": [
    "import pandas as pd\n",
    "import numpy as np\n",
    "\n",
    "pd.set_option('display.max_rows', 10000)"
   ]
  },
  {
   "cell_type": "code",
   "execution_count": 2,
   "metadata": {},
   "outputs": [],
   "source": [
    "def convert_quarter_to_date(time):\n",
    "    date = time\n",
    "    if \"Q1\" in date:\n",
    "        date = str(date[:5]) + \"01-01\"\n",
    "    elif \"Q2\" in date:\n",
    "        date = str(date[:5]) + \"04-01\"\n",
    "    elif \"Q3\" in date:\n",
    "        date = str(date[:5]) + \"07-01\"\n",
    "    else:\n",
    "        date = str(date[:5]) + \"10-01\"\n",
    "    return date"
   ]
  },
  {
   "cell_type": "code",
   "execution_count": 3,
   "metadata": {},
   "outputs": [
    {
     "name": "stderr",
     "output_type": "stream",
     "text": [
      "C:\\Users\\chera\\.conda\\envs\\tf\\lib\\site-packages\\pandas\\core\\indexing.py:1636: SettingWithCopyWarning: \n",
      "A value is trying to be set on a copy of a slice from a DataFrame\n",
      "\n",
      "See the caveats in the documentation: https://pandas.pydata.org/pandas-docs/stable/user_guide/indexing.html#returning-a-view-versus-a-copy\n",
      "  self._setitem_single_block(indexer, value, name)\n"
     ]
    }
   ],
   "source": [
    "import datetime\n",
    "from datetime import datetime\n",
    "\n",
    "def filled_dataframe(currency):\n",
    "    time_array = pd.date_range(start=\"1/1/2018\", freq=\"1H\", periods=26304)\n",
    "    gdp_array = np.zeros(26304)\n",
    "    gdp_index = 0\n",
    "    index = 0\n",
    "    previous = 0\n",
    "    for i in currency.iterrows():\n",
    "        currency_datetime = datetime.strptime(i[1][\"Time\"], \"%Y-%m-%d\")\n",
    "        while index < 26304 and gdp_index < 26304 and time_array[index] < currency_datetime:\n",
    "            gdp_array[gdp_index] = previous\n",
    "            gdp_index += 1\n",
    "            index += 1\n",
    "        previous = i[1][\"GDP\"]\n",
    "    while gdp_index < 26304:\n",
    "        gdp_array[gdp_index] = currency[\"GDP\"].iloc[-1]\n",
    "        gdp_index += 1\n",
    "    new_df = pd.DataFrame({\"Time\": time_array, \"GDP\": gdp_array})\n",
    "    return new_df\n",
    "\n",
    "def gdp_dataframe():\n",
    "    gdp_data = pd.read_csv(\"../data/external/gdp/GDP_2018-2020.csv\")\n",
    "    gdp_data = gdp_data.rename(columns={\"TIME\": \"Time\", \"Value\": \"GDP\"})\n",
    "    gdp_data = gdp_data[{\"Time\", \"GDP\"}]\n",
    "    gdp_data[\"Time\"] = gdp_data[\"Time\"].transform(lambda time : convert_quarter_to_date(time))\n",
    "    gdp_data[\"Time\"] = gdp_data[\"Time\"].transform(lambda time : datetime.strptime(time, \"%Y-%m-%d\").strftime(\"%Y-%m-%d %H:%M:%S\"))\n",
    "    \n",
    "    time_frame = pd.date_range(start=\"2018-01-01 22:00:00\", freq=\"1T\", end=\"2020-12-31 21:59:00\")\n",
    "    time_frame = pd.DataFrame(time_frame, columns=[\"Time\"])\n",
    "    time_frame[\"Time\"] = time_frame[\"Time\"].dt.strftime(\"%Y-%m-%d %H:%M:%S\")\n",
    "    \n",
    "    aud_gdp = gdp_data[16:31]\n",
    "    gbp_gdp = gdp_data[46:61]\n",
    "    jpy_gdp = gdp_data[107:122]\n",
    "    cad_gdp = gdp_data[167:182]\n",
    "    usd_gdp = gdp_data[258:274]\n",
    "    chf_gdp = gdp_data[552:567]\n",
    "    nzd_gdp = gdp_data[567:582]\n",
    "    eur_gdp = gdp_data[720:736]\n",
    "    \n",
    "    create_gdp_csv(aud_gdp, time_frame, aud_gdp[\"GDP\"].iloc[0]).to_csv(\"../data/processed/gdp/aud_gdp_processed.csv\", index=False)\n",
    "    create_gdp_csv(gbp_gdp, time_frame, gbp_gdp[\"GDP\"].iloc[0]).to_csv(\"../data/processed/gdp/gbp_gdp_processed.csv\", index=False)\n",
    "    create_gdp_csv(jpy_gdp, time_frame, jpy_gdp[\"GDP\"].iloc[0]).to_csv(\"../data/processed/gdp/jpy_gdp_processed.csv\", index=False)\n",
    "    create_gdp_csv(cad_gdp, time_frame, cad_gdp[\"GDP\"].iloc[0]).to_csv(\"../data/processed/gdp/cad_gdp_processed.csv\", index=False)\n",
    "    create_gdp_csv(usd_gdp, time_frame, usd_gdp[\"GDP\"].iloc[0]).to_csv(\"../data/processed/gdp/usd_gdp_processed.csv\", index=False)\n",
    "    create_gdp_csv(chf_gdp, time_frame, chf_gdp[\"GDP\"].iloc[0]).to_csv(\"../data/processed/gdp/chf_gdp_processed.csv\", index=False)\n",
    "    create_gdp_csv(nzd_gdp, time_frame, nzd_gdp[\"GDP\"].iloc[0]).to_csv(\"../data/processed/gdp/nzd_gdp_processed.csv\", index=False)\n",
    "    create_gdp_csv(eur_gdp, time_frame, eur_gdp[\"GDP\"].iloc[0]).to_csv(\"../data/processed/gdp/eur_gdp_processed.csv\", index=False)\n",
    "\n",
    "def create_gdp_csv(pair, time, initial):\n",
    "    pair = time.merge(pair, how=\"left\", on=\"Time\")\n",
    "    pair[\"GDP\"].iloc[0] = initial\n",
    "    pair = pair.fillna(method=\"ffill\")\n",
    "    return pair\n",
    "\n",
    "gdp_dataframe()"
   ]
  },
  {
   "cell_type": "code",
   "execution_count": null,
   "metadata": {},
   "outputs": [],
   "source": []
  }
 ],
 "metadata": {
  "kernelspec": {
   "display_name": "Python 3",
   "language": "python",
   "name": "python3"
  },
  "language_info": {
   "codemirror_mode": {
    "name": "ipython",
    "version": 3
   },
   "file_extension": ".py",
   "mimetype": "text/x-python",
   "name": "python",
   "nbconvert_exporter": "python",
   "pygments_lexer": "ipython3",
   "version": "3.8.5"
  }
 },
 "nbformat": 4,
 "nbformat_minor": 4
}
