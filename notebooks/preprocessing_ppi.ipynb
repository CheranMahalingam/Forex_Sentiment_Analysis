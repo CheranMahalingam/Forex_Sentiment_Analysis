{
 "cells": [
  {
   "cell_type": "code",
   "execution_count": 1,
   "metadata": {},
   "outputs": [],
   "source": [
    "import numpy as np\n",
    "import pandas as pd\n",
    "\n",
    "pd.set_option('display.max_rows', 10000)"
   ]
  },
  {
   "cell_type": "code",
   "execution_count": 2,
   "metadata": {},
   "outputs": [
    {
     "name": "stderr",
     "output_type": "stream",
     "text": [
      "C:\\Users\\chera\\.conda\\envs\\tf\\lib\\site-packages\\pandas\\core\\indexing.py:1636: SettingWithCopyWarning: \n",
      "A value is trying to be set on a copy of a slice from a DataFrame\n",
      "\n",
      "See the caveats in the documentation: https://pandas.pydata.org/pandas-docs/stable/user_guide/indexing.html#returning-a-view-versus-a-copy\n",
      "  self._setitem_single_block(indexer, value, name)\n"
     ]
    }
   ],
   "source": [
    "import datetime\n",
    "from datetime import datetime\n",
    "\n",
    "def filled_dataframe(currency):\n",
    "    time_array = pd.date_range(start=\"1/1/2018\", freq=\"1H\", periods=26304)\n",
    "    ppi_array = np.zeros(26304)\n",
    "    ppi_index = 0\n",
    "    index = 0\n",
    "    previous = 0\n",
    "    for i in currency.iterrows():\n",
    "        currency_datetime = datetime.strptime(i[1][\"Time\"], \"%Y-%m\")\n",
    "        while index < 26304 and ppi_index < 26304 and time_array[index] < currency_datetime:\n",
    "            ppi_array[ppi_index] = previous\n",
    "            ppi_index += 1\n",
    "            index += 1\n",
    "        previous = i[1][\"PPI\"]\n",
    "    while ppi_index < 26304:\n",
    "        ppi_array[ppi_index] = currency[\"PPI\"].iloc[-1]\n",
    "        ppi_index += 1\n",
    "    new_df = pd.DataFrame({\"Time\": time_array, \"PPI\": ppi_array})\n",
    "    return new_df\n",
    "\n",
    "def ppi_dataframe():\n",
    "    ppi_data = pd.read_csv(\"../data/external/ppi/PPI_2018-2020.csv\")\n",
    "    ppi_data = ppi_data.rename(columns={\"TIME\": \"Time\", \"Value\": \"PPI\"})\n",
    "    ppi_data = ppi_data[{\"Time\", \"PPI\"}]\n",
    "    ppi_data[\"Time\"] = ppi_data[\"Time\"].transform(lambda time : datetime.strptime(time, \"%Y-%m\").strftime(\"%Y-%m-%d %H:%M:%S\"))\n",
    "    \n",
    "    jpy_ppi = ppi_data[576:611]\n",
    "    chf_ppi = ppi_data[1093:1128]\n",
    "    gbp_ppi = ppi_data[1187:1222]\n",
    "    eur_ppi = ppi_data[1793:1828]\n",
    "    \n",
    "    time_frame = pd.date_range(start=\"2018-01-01 22:00:00\", freq=\"1T\", end=\"2020-12-31 21:59:00\")\n",
    "    time_frame = pd.DataFrame(time_frame, columns=[\"Time\"])\n",
    "    time_frame[\"Time\"] = time_frame[\"Time\"].dt.strftime(\"%Y-%m-%d %H:%M:%S\")\n",
    "    \n",
    "    cad_ppi = pd.read_csv(\"../data/external/ppi/CAD_PPI_2018-2020.csv\")\n",
    "    usd_ppi = pd.read_csv(\"../data/external/ppi/USD_PPI_2018-2020.csv\")\n",
    "    aud_ppi = pd.read_csv(\"../data/external/ppi/AUD_PPI_2018-2020.csv\")\n",
    "    nzd_ppi = pd.read_csv(\"../data/external/ppi/NZD_PPI_2018-2020.csv\")\n",
    "    \n",
    "    cad_ppi = cad_ppi[232:243]\n",
    "    usd_ppi = usd_ppi[232:243]\n",
    "    aud_ppi = aud_ppi[198:209]\n",
    "    nzd_ppi = nzd_ppi[232:243]\n",
    "    \n",
    "    cad_ppi = cad_ppi.rename(columns={\"DATE\": \"Time\", \"PIEAMP01CAQ661N\": \"PPI\"})\n",
    "    usd_ppi = usd_ppi.rename(columns={\"DATE\": \"Time\", \"PIEAMP01USQ661N\": \"PPI\"})\n",
    "    aud_ppi = aud_ppi.rename(columns={\"DATE\": \"Time\", \"PIEAMP01AUQ661N\": \"PPI\"})\n",
    "    nzd_ppi = nzd_ppi.rename(columns={\"DATE\": \"Time\", \"PIEAMP01NZQ661N\": \"PPI\"})\n",
    "    cad_ppi[\"Time\"] = cad_ppi[\"Time\"].transform(lambda time : datetime.strptime(time, \"%Y-%m-%d\").strftime(\"%Y-%m-%d %H:%M:%S\"))\n",
    "    usd_ppi[\"Time\"] = usd_ppi[\"Time\"].transform(lambda time : datetime.strptime(time, \"%Y-%m-%d\").strftime(\"%Y-%m-%d %H:%M:%S\"))\n",
    "    aud_ppi[\"Time\"] = aud_ppi[\"Time\"].transform(lambda time : datetime.strptime(time, \"%Y-%m-%d\").strftime(\"%Y-%m-%d %H:%M:%S\"))\n",
    "    nzd_ppi[\"Time\"] = nzd_ppi[\"Time\"].transform(lambda time : datetime.strptime(time, \"%Y-%m-%d\").strftime(\"%Y-%m-%d %H:%M:%S\"))\n",
    "    \n",
    "    create_ppi_csv(jpy_ppi, time_frame, jpy_ppi[\"PPI\"].iloc[0]).to_csv(\"../data/processed/ppi/jpy_ppi_processed.csv\", index=False)\n",
    "    create_ppi_csv(chf_ppi, time_frame, chf_ppi[\"PPI\"].iloc[0]).to_csv(\"../data/processed/ppi/chf_ppi_processed.csv\", index=False)\n",
    "    create_ppi_csv(gbp_ppi, time_frame, gbp_ppi[\"PPI\"].iloc[0]).to_csv(\"../data/processed/ppi/gbp_ppi_processed.csv\", index=False)\n",
    "    create_ppi_csv(eur_ppi, time_frame, eur_ppi[\"PPI\"].iloc[0]).to_csv(\"../data/processed/ppi/eur_ppi_processed.csv\", index=False)\n",
    "    create_ppi_csv(cad_ppi, time_frame, cad_ppi[\"PPI\"].iloc[0]).to_csv(\"../data/processed/ppi/cad_ppi_processed.csv\", index=False)\n",
    "    create_ppi_csv(usd_ppi, time_frame, usd_ppi[\"PPI\"].iloc[0]).to_csv(\"../data/processed/ppi/usd_ppi_processed.csv\", index=False)\n",
    "    create_ppi_csv(aud_ppi, time_frame, aud_ppi[\"PPI\"].iloc[0]).to_csv(\"../data/processed/ppi/aud_ppi_processed.csv\", index=False)\n",
    "    create_ppi_csv(nzd_ppi, time_frame, nzd_ppi[\"PPI\"].iloc[0]).to_csv(\"../data/processed/ppi/nzd_ppi_processed.csv\", index=False)\n",
    "    \n",
    "def create_ppi_csv(pair, time, initial):\n",
    "    pair = time.merge(pair, how=\"left\", on=\"Time\")\n",
    "    pair[\"PPI\"].iloc[0] = initial\n",
    "    pair = pair.fillna(method=\"ffill\")\n",
    "    return pair\n",
    "\n",
    "ppi_dataframe()"
   ]
  },
  {
   "cell_type": "code",
   "execution_count": null,
   "metadata": {},
   "outputs": [],
   "source": []
  }
 ],
 "metadata": {
  "kernelspec": {
   "display_name": "Python 3",
   "language": "python",
   "name": "python3"
  },
  "language_info": {
   "codemirror_mode": {
    "name": "ipython",
    "version": 3
   },
   "file_extension": ".py",
   "mimetype": "text/x-python",
   "name": "python",
   "nbconvert_exporter": "python",
   "pygments_lexer": "ipython3",
   "version": "3.8.5"
  }
 },
 "nbformat": 4,
 "nbformat_minor": 4
}
