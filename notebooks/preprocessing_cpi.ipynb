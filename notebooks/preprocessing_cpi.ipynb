{
 "cells": [
  {
   "cell_type": "code",
   "execution_count": 2,
   "metadata": {},
   "outputs": [],
   "source": [
    "import pandas as pd\n",
    "import numpy as np\n",
    "\n",
    "pd.set_option('display.max_rows', 10000)"
   ]
  },
  {
   "cell_type": "code",
   "execution_count": 3,
   "metadata": {},
   "outputs": [],
   "source": [
    "from datetime import datetime\n",
    "\n",
    "def cpi_dataframe():\n",
    "    cpi_data = pd.read_csv(\"../data/external/cpi/CPI_2018-2020.csv\")\n",
    "    cpi_data = cpi_data.rename(columns={\"TIME\": \"Time\", \"Value\": \"CPI\"})\n",
    "    cpi_data = cpi_data[{\"Time\", \"CPI\"}]\n",
    "    cpi_data[\"Time\"] = cpi_data[\"Time\"].transform(lambda time : datetime.strptime(time, \"%Y-%m\").strftime(\"%Y-%m-%d %H:%M:%S\"))\n",
    "    \n",
    "    time_frame = pd.date_range(start=\"2018-01-01 22:00:00\", freq=\"1T\", end=\"2020-12-31 21:59:00\")\n",
    "    time_frame = pd.DataFrame(time_frame, columns=[\"Time\"])\n",
    "    time_frame[\"Time\"] = time_frame[\"Time\"].dt.strftime(\"%Y-%m-%d %H:%M:%S\")\n",
    "    \n",
    "    can_cpi = cpi_data[1:37]\n",
    "    jpy_cpi = cpi_data[38:74]\n",
    "    chf_cpi = cpi_data[75:111]\n",
    "    gbp_cpi = cpi_data[112:148]\n",
    "    usd_cpi = cpi_data[149:185]\n",
    "    eur_cpi = cpi_data[223:259]\n",
    "    \n",
    "    australia_cpi_data = pd.read_csv(\"../data/external/cpi/AUD_CPI_2018-2020.csv\")\n",
    "    new_zealand_cpi_data = pd.read_csv(\"../data/external/cpi/NZD_CPI_2018-2020.csv\")\n",
    "    aud_cpi = australia_cpi_data[25:37]\n",
    "    nzd_cpi = new_zealand_cpi_data[4:]\n",
    "    nzd_cpi = nzd_cpi.rename(columns={\"Year ended\": \"Time\", \"Percentage change\": \"CPI\"})\n",
    "    aud_cpi = aud_cpi.rename(columns={\"Quarter\": \"Time\", \"Change from previous quarter (%)\": \"CPI\"})\n",
    "    aud_cpi[\"Time\"] = aud_cpi[\"Time\"].transform(lambda time : datetime.strptime(time[:4] + \"20\" + time[4:], \"%b-%Y\").strftime(\"%Y-%m-%d %H:%M:%S\"))\n",
    "    nzd_cpi[\"Time\"] = nzd_cpi[\"Time\"].transform(lambda time : datetime.strptime(time[:4] + \"20\" + time[4:], \"%b-%Y\").strftime(\"%Y-%m-%d %H:%M:%S\"))\n",
    "    \n",
    "    create_cpi_csv(aud_cpi, time_frame, aud_cpi[\"CPI\"].iloc[0]).to_csv(\"../data/processed/cpi/aud_cpi_processed.csv\", index=False)\n",
    "    create_cpi_csv(can_cpi, time_frame, can_cpi[\"CPI\"].iloc[0]).to_csv(\"../data/processed/cpi/can_cpi_processed.csv\", index=False)\n",
    "    create_cpi_csv(jpy_cpi, time_frame, jpy_cpi[\"CPI\"].iloc[0]).to_csv(\"../data/processed/cpi/jpy_cpi_processed.csv\", index=False)\n",
    "    create_cpi_csv(chf_cpi, time_frame, chf_cpi[\"CPI\"].iloc[0]).to_csv(\"../data/processed/cpi/chf_cpi_processed.csv\", index=False)\n",
    "    create_cpi_csv(gbp_cpi, time_frame, gbp_cpi[\"CPI\"].iloc[0]).to_csv(\"../data/processed/cpi/gbp_cpi_processed.csv\", index=False)\n",
    "    create_cpi_csv(usd_cpi, time_frame, usd_cpi[\"CPI\"].iloc[0]).to_csv(\"../data/processed/cpi/usd_cpi_processed.csv\", index=False)\n",
    "    create_cpi_csv(eur_cpi, time_frame, eur_cpi[\"CPI\"].iloc[0]).to_csv(\"../data/processed/cpi/eur_cpi_processed.csv\", index=False)\n",
    "    create_cpi_csv(nzd_cpi, time_frame, nzd_cpi[\"CPI\"].iloc[0]).to_csv(\"../data/processed/cpi/nzd_cpi_processed.csv\", index=False)\n",
    "    \n",
    "def create_cpi_csv(pair, time, initial):\n",
    "    pair = time.merge(pair, how=\"left\", on=\"Time\")\n",
    "    pair.iloc[0, pair.columns.get_loc(\"CPI\")] = initial\n",
    "    pair = pair.fillna(method=\"ffill\")\n",
    "    return pair\n",
    "\n",
    "cpi_dataframe()"
   ]
  },
  {
   "cell_type": "code",
   "execution_count": null,
   "metadata": {},
   "outputs": [],
   "source": []
  }
 ],
 "metadata": {
  "kernelspec": {
   "display_name": "Python 3",
   "language": "python",
   "name": "python3"
  },
  "language_info": {
   "codemirror_mode": {
    "name": "ipython",
    "version": 3
   },
   "file_extension": ".py",
   "mimetype": "text/x-python",
   "name": "python",
   "nbconvert_exporter": "python",
   "pygments_lexer": "ipython3",
   "version": "3.8.5"
  }
 },
 "nbformat": 4,
 "nbformat_minor": 4
}
