{
 "cells": [
  {
   "cell_type": "code",
   "execution_count": 1,
   "metadata": {},
   "outputs": [],
   "source": [
    "import numpy as np\n",
    "import pandas as pd\n",
    "\n",
    "pd.set_option('display.max_rows', 10000)"
   ]
  },
  {
   "cell_type": "code",
   "execution_count": 2,
   "metadata": {},
   "outputs": [
    {
     "name": "stderr",
     "output_type": "stream",
     "text": [
      "C:\\Users\\chera\\.conda\\envs\\tf\\lib\\site-packages\\pandas\\core\\indexing.py:1636: SettingWithCopyWarning: \n",
      "A value is trying to be set on a copy of a slice from a DataFrame\n",
      "\n",
      "See the caveats in the documentation: https://pandas.pydata.org/pandas-docs/stable/user_guide/indexing.html#returning-a-view-versus-a-copy\n",
      "  self._setitem_single_block(indexer, value, name)\n"
     ]
    }
   ],
   "source": [
    "import datetime\n",
    "from datetime import datetime\n",
    "\n",
    "def filled_dataframe(currency):\n",
    "    time_array = pd.date_range(start=\"1/1/2018\", freq=\"1H\", periods=26304)\n",
    "    un_array = np.zeros(26304)\n",
    "    un_index = 0\n",
    "    index = 0\n",
    "    previous = 0\n",
    "    for i in currency.iterrows():\n",
    "        currency_datetime = datetime.strptime(i[1][\"Time\"], \"%Y-%m\")\n",
    "        while index < 26304 and un_index < 26304 and time_array[index] < currency_datetime:\n",
    "            un_array[un_index] = previous\n",
    "            un_index += 1\n",
    "            index += 1\n",
    "        previous = i[1][\"Unemployment Rate\"]\n",
    "    while un_index < 26304:\n",
    "        un_array[un_index] = currency[\"Unemployment Rate\"].iloc[-1]\n",
    "        un_index += 1\n",
    "    new_df = pd.DataFrame({\"Time\": time_array, \"Unemployment Rate\": un_array})\n",
    "    return new_df\n",
    "\n",
    "def unemployment_dataframe():\n",
    "    ue_data = pd.read_csv(\"../data/external/unemployment/Unemployment_2018-2020.csv\")\n",
    "    ue_data = ue_data.rename(columns={\"TIME\": \"Time\", \"Value\": \"Unemployment Rate\"})\n",
    "    ue_data = ue_data[{\"Time\", \"Unemployment Rate\"}]\n",
    "    ue_data[\"Time\"] = ue_data[\"Time\"].transform(lambda time : datetime.strptime(time, \"%Y-%m\").strftime(\"%Y-%m-%d %H:%M:%S\"))\n",
    "    \n",
    "    time_frame = pd.date_range(start=\"2018-01-01 22:00:00\", freq=\"1T\", end=\"2020-12-31 21:59:00\")\n",
    "    time_frame = pd.DataFrame(time_frame, columns=[\"Time\"])\n",
    "    time_frame[\"Time\"] = time_frame[\"Time\"].dt.strftime(\"%Y-%m-%d %H:%M:%S\")\n",
    "    \n",
    "    aud_ue = ue_data[12:47]\n",
    "    cad_ue = ue_data[153:189]\n",
    "    jpy_ue = ue_data[668:703]\n",
    "    gbp_ue = ue_data[1228:1261]\n",
    "    usd_ue = ue_data[1273:1309]\n",
    "    eur_ue = ue_data[1638:1673]\n",
    "    \n",
    "    nzd_data = pd.read_csv(\"../data/external/unemployment/NZD_Unemployment_2018-2020.csv\")\n",
    "    chf_data = pd.read_csv(\"../data/external/unemployment/CHF_Unemployment_2018-2020.csv\")\n",
    "    nzd_data = nzd_data.rename(columns={\"DATE\": \"Time\", \"LRUNTTTTNZQ156S\": \"Unemployment Rate\"})\n",
    "    chf_data = chf_data.rename(columns={\"DATE\": \"Time\", \"LRUNTTTTCHQ156S\": \"Unemployment Rate\"})\n",
    "    nzd_data[\"Time\"] = nzd_data[\"Time\"].transform(lambda time : datetime.strptime(time, \"%Y-%m-%d\").strftime(\"%Y-%m-%d %H:%M:%S\"))\n",
    "    chf_data[\"Time\"] = chf_data[\"Time\"].transform(lambda time : datetime.strptime(time, \"%Y-%m-%d\").strftime(\"%Y-%m-%d %H:%M:%S\"))\n",
    "    \n",
    "    nzd_ue = nzd_data[128:139]\n",
    "    chf_ue = chf_data[75:86]\n",
    "    \n",
    "    create_unemployment_csv(aud_ue, time_frame, aud_ue[\"Unemployment Rate\"].iloc[0]).to_csv(\"../data/processed/unemployment_rate/aud_ue_processed.csv\", index=False)\n",
    "    create_unemployment_csv(cad_ue, time_frame, cad_ue[\"Unemployment Rate\"].iloc[0]).to_csv(\"../data/processed/unemployment_rate/cad_ue_processed.csv\", index=False)\n",
    "    create_unemployment_csv(jpy_ue, time_frame, jpy_ue[\"Unemployment Rate\"].iloc[0]).to_csv(\"../data/processed/unemployment_rate/jpy_ue_processed.csv\", index=False)\n",
    "    create_unemployment_csv(gbp_ue, time_frame, gbp_ue[\"Unemployment Rate\"].iloc[0]).to_csv(\"../data/processed/unemployment_rate/gbp_ue_processed.csv\", index=False)\n",
    "    create_unemployment_csv(usd_ue, time_frame, usd_ue[\"Unemployment Rate\"].iloc[0]).to_csv(\"../data/processed/unemployment_rate/usd_ue_processed.csv\", index=False)\n",
    "    create_unemployment_csv(eur_ue, time_frame, eur_ue[\"Unemployment Rate\"].iloc[0]).to_csv(\"../data/processed/unemployment_rate/eur_ue_processed.csv\", index=False)\n",
    "    create_unemployment_csv(nzd_ue, time_frame, nzd_ue[\"Unemployment Rate\"].iloc[0]).to_csv(\"../data/processed/unemployment_rate/nzd_ue_processed.csv\", index=False)\n",
    "    create_unemployment_csv(chf_ue, time_frame, chf_ue[\"Unemployment Rate\"].iloc[0]).to_csv(\"../data/processed/unemployment_rate/chf_ue_processed.csv\", index=False)\n",
    "    \n",
    "def create_unemployment_csv(pair, time, initial):\n",
    "    pair = time.merge(pair, how=\"left\", on=\"Time\")\n",
    "    pair[\"Unemployment Rate\"].iloc[0] = initial\n",
    "    pair = pair.fillna(method=\"ffill\")\n",
    "    return pair\n",
    "\n",
    "unemployment_dataframe()"
   ]
  },
  {
   "cell_type": "code",
   "execution_count": null,
   "metadata": {},
   "outputs": [],
   "source": []
  }
 ],
 "metadata": {
  "kernelspec": {
   "display_name": "Python 3",
   "language": "python",
   "name": "python3"
  },
  "language_info": {
   "codemirror_mode": {
    "name": "ipython",
    "version": 3
   },
   "file_extension": ".py",
   "mimetype": "text/x-python",
   "name": "python",
   "nbconvert_exporter": "python",
   "pygments_lexer": "ipython3",
   "version": "3.8.5"
  }
 },
 "nbformat": 4,
 "nbformat_minor": 4
}
