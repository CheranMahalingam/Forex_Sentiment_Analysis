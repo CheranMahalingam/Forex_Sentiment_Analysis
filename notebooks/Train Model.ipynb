{
 "cells": [
  {
   "cell_type": "code",
   "execution_count": 1,
   "metadata": {},
   "outputs": [],
   "source": [
    "import pandas as pd\n",
    "import numpy as np\n",
    "import matplotlib.pyplot as plt\n",
    "import seaborn as sns\n",
    "\n",
    "from sklearn.preprocessing import MinMaxScaler, StandardScaler\n",
    "import joblib\n",
    "\n",
    "import tensorflow as tf\n",
    "from tensorflow.keras.models import Sequential\n",
    "from tensorflow.keras.layers import Dense, Dropout, LSTM\n",
    "\n",
    "import datetime\n",
    "import math\n",
    "\n",
    "%matplotlib inline\n",
    "%reload_ext tensorboard"
   ]
  },
  {
   "cell_type": "code",
   "execution_count": 2,
   "metadata": {},
   "outputs": [],
   "source": [
    "np.random.seed(42)\n",
    "tf.random.set_seed(42)\n",
    "\n",
    "def create_split(df, pct_train, pct_val, batch_size, window_size):\n",
    "    length = df.shape[0]\n",
    "    temp_train_size = find_batch_gcd(math.floor(pct_train * length), batch_size)\n",
    "    test_size = length - temp_train_size\n",
    "    train_size = find_batch_gcd(math.floor((1 - pct_val) * temp_train_size), batch_size)\n",
    "    val_size = temp_train_size - train_size\n",
    "    df_train = df[:- val_size - test_size]\n",
    "    df_val = df[- val_size - test_size - window_size:- test_size]\n",
    "    df_test = df[- test_size - window_size:]\n",
    "    return df_train, df_val, df_test\n",
    "\n",
    "def find_batch_gcd(length, batch_size):\n",
    "    while length % batch_size != 0:\n",
    "        length -= 1\n",
    "    return length\n",
    "\n",
    "def create_dataset(df, window_size):\n",
    "    X, y = [], []\n",
    "    for i in range(len(df) - window_size):\n",
    "        v = df.iloc[i:(i + window_size)].values\n",
    "        X.append(v)\n",
    "        y.append(df[\"Close\"].iloc[i + window_size])\n",
    "    return np.array(X), np.array(y)\n",
    "\n",
    "def create_multi_pred_dataset(df, window_size, time_steps):\n",
    "    X, y = [], []\n",
    "    for i in range(len(df) - window_size - time_steps - 1):\n",
    "        v = df.iloc[i:(i + window_size)].values\n",
    "        X.append(v)\n",
    "        y.append(df[\"Close\"].iloc[i + window_size:i + window_size + time_steps].values)\n",
    "    return np.array(X), np.array(y)\n",
    "\n",
    "def create_model(nodes, optimizer, dropout, X_train):\n",
    "    model = Sequential()\n",
    "    model.add(LSTM(nodes[0], input_shape=(X_train.shape[1], X_train.shape[2]), return_sequences=True))\n",
    "    model.add(LSTM(nodes[1], return_sequences=True))\n",
    "    model.add(LSTM(nodes[2]))\n",
    "    model.add(Dropout(dropout))\n",
    "    model.add(Dense(nodes[3]))\n",
    "    model.compile(loss=\"mse\", optimizer=optimizer, metrics=['mae'])\n",
    "    return model\n",
    "\n",
    "def train_model(pair, batch_size, window_size, time, nodes_arr, optimizer, dropout, epochs):\n",
    "    series = pd.read_csv(\"../data/processed/{}_processed.csv\".format(pair))\n",
    "    \n",
    "    series = series[series.shape[0] % batch_size:]\n",
    "    close = series[['Real Close']]\n",
    "    series = series.drop(['Time', 'Real Close'], axis=1)\n",
    "    series = series[['Close', 'EMA_10', 'EMA_50', 'RSI', 'A/D Index',\n",
    "                     'AUD Interest Rate', 'CAD Interest Rate', 'AUD_CPI', 'CAD_CPI',\n",
    "                     'AUD Twitter Sentiment', 'CAD Twitter Sentiment', 'AUD News Sentiment', 'CAD News Sentiment',\n",
    "                     #'EUR_GDP', 'USD_GDP', 'EUR_PPI', 'USD_PPI', 'USD Unemployment Rate', 'EUR Unemployment Rate'\n",
    "                    ]]\n",
    "\n",
    "    df_train, df_val, df_test = create_split(series, 0.75, 0.1, batch_size, window_size)\n",
    "    print(f'df_train.shape {df_train.shape}, df_validation.shape {df_val.shape}, df_test.shape {df_test.shape}')\n",
    "    \n",
    "    closeScaler = MinMaxScaler(feature_range=(0, 1))\n",
    "    featureScaler = MinMaxScaler(feature_range=(0, 1))\n",
    "    df_train = df_train.copy()\n",
    "    df_val = df_val.copy()\n",
    "    #df_test = df_test.copy()\n",
    "    df_train.loc[:, ['Close']] = closeScaler.fit_transform(df_train[['Close']])\n",
    "    df_train.loc[:, ~df_train.columns.isin(['Close'])] = featureScaler.fit_transform(df_train.loc[:, ~df_train.columns.isin(['Close'])])\n",
    "    df_val.loc[:, ['Close']] = closeScaler.transform(df_val[['Close']])\n",
    "    df_val.loc[:, ~df_val.columns.isin(['Close'])] = featureScaler.transform(df_val.loc[:, ~df_val.columns.isin(['Close'])])\n",
    "    #df_test.loc[:, ['Close']] = closeScaler.transform(df_test[['Close']])\n",
    "    #df_test.loc[:, ~df_test.columns.isin(['Close'])] = featureScaler.transform(df_test.loc[:, ~df_test.columns.isin(['Close'])])\n",
    "\n",
    "    #X_train, y_train = create_dataset(df_train, window_size)\n",
    "    #X_val, y_val = create_dataset(df_val, window_size)\n",
    "    #X_test, y_test = create_dataset(df_test, window_size)\n",
    "    \n",
    "    X_train, y_train = create_multi_pred_dataset(df_train, window_size, nodes_arr[3])\n",
    "    X_val, y_val = create_multi_pred_dataset(df_val, window_size, nodes_arr[3])\n",
    "    #X_test, y_test = create_multi_pred_dataset(df_test, window_size, nodes_arr[3])\n",
    "\n",
    "    model = create_model(nodes_arr, optimizer, dropout, X_train)\n",
    "    \n",
    "    current_time = datetime.datetime.now().strftime(\"%Y%m%d-%H%M%S\")\n",
    "\n",
    "    log_dir = \"logs/training/\" + current_time\n",
    "    tensorboard_callback = tf.keras.callbacks.TensorBoard(log_dir=log_dir, update_freq='epoch', profile_batch=0, histogram_freq=1)\n",
    "\n",
    "    history = model.fit(X_train, y_train,\n",
    "                    validation_data=(X_val, y_val),\n",
    "                    epochs=epochs,\n",
    "                    batch_size=batch_size,\n",
    "                    shuffle=False,\n",
    "                    callbacks=[tensorboard_callback]\n",
    "                   )\n",
    "    model.save(\"../models/{}\".format(pair))\n",
    "    joblib.dump(featureScaler, \"../scalers/{}/features.bin\".format(pair))\n",
    "    joblib.dump(closeScaler, \"../scalers/{}/close.bin\".format(pair))\n",
    "    \n",
    "    del model\n",
    "    \n",
    "    return history\n",
    "\n",
    "def visualize_loss(history):\n",
    "    fig = plt.figure(figsize=(16, 10))\n",
    "    ax1 = fig.subplots(1)\n",
    "    ax1.set_title('Model Loss')\n",
    "    ax1.set(xlabel='Epoch', ylabel='Loss')\n",
    "    ax1.plot(history.history['loss'], label='Train Loss')\n",
    "    ax1.plot(history.history['val_loss'], label='Val Loss')\n",
    "    ax1.legend()"
   ]
  },
  {
   "cell_type": "code",
   "execution_count": 3,
   "metadata": {
    "scrolled": true
   },
   "outputs": [
    {
     "name": "stdout",
     "output_type": "stream",
     "text": [
      "df_train.shape (50400, 13), df_validation.shape (5696, 13), df_test.shape (18784, 13)\n",
      "Epoch 1/10\n",
      "1557/1557 [==============================] - 191s 123ms/step - loss: 0.0092 - mae: 0.0598 - val_loss: 8.4829e-04 - val_mae: 0.0159\n",
      "Epoch 2/10\n",
      "1557/1557 [==============================] - 180s 115ms/step - loss: 0.0017 - mae: 0.0318 - val_loss: 8.5939e-04 - val_mae: 0.0163\n",
      "Epoch 3/10\n",
      "1557/1557 [==============================] - 180s 116ms/step - loss: 9.1408e-04 - mae: 0.0225 - val_loss: 8.1503e-04 - val_mae: 0.0145\n",
      "Epoch 4/10\n",
      "1557/1557 [==============================] - 181s 116ms/step - loss: 4.6719e-04 - mae: 0.0147 - val_loss: 8.1544e-04 - val_mae: 0.0145\n",
      "Epoch 5/10\n",
      "1557/1557 [==============================] - 184s 118ms/step - loss: 2.7827e-04 - mae: 0.0095 - val_loss: 8.1504e-04 - val_mae: 0.0145\n",
      "Epoch 6/10\n",
      "1557/1557 [==============================] - 185s 119ms/step - loss: 2.3966e-04 - mae: 0.0079 - val_loss: 8.1494e-04 - val_mae: 0.0144\n",
      "Epoch 7/10\n",
      "1557/1557 [==============================] - 189s 122ms/step - loss: 2.3649e-04 - mae: 0.0077 - val_loss: 8.1501e-04 - val_mae: 0.0145\n",
      "Epoch 8/10\n",
      "1557/1557 [==============================] - 186s 119ms/step - loss: 2.3629e-04 - mae: 0.0077 - val_loss: 8.1499e-04 - val_mae: 0.0145\n",
      "Epoch 9/10\n",
      "1557/1557 [==============================] - 230s 148ms/step - loss: 2.3625e-04 - mae: 0.0076 - val_loss: 8.1497e-04 - val_mae: 0.0145\n",
      "Epoch 10/10\n",
      "1557/1557 [==============================] - 234s 151ms/step - loss: 2.3624e-04 - mae: 0.0076 - val_loss: 8.1496e-04 - val_mae: 0.0145\n",
      "WARNING:tensorflow:From C:\\Users\\chera\\.conda\\envs\\tf\\lib\\site-packages\\tensorflow\\python\\training\\tracking\\tracking.py:111: Model.state_updates (from tensorflow.python.keras.engine.training) is deprecated and will be removed in a future version.\n",
      "Instructions for updating:\n",
      "This property should not be used in TensorFlow 2.0, as updates are applied automatically.\n",
      "WARNING:tensorflow:From C:\\Users\\chera\\.conda\\envs\\tf\\lib\\site-packages\\tensorflow\\python\\training\\tracking\\tracking.py:111: Layer.updates (from tensorflow.python.keras.engine.base_layer) is deprecated and will be removed in a future version.\n",
      "Instructions for updating:\n",
      "This property should not be used in TensorFlow 2.0, as updates are applied automatically.\n",
      "INFO:tensorflow:Assets written to: ../models/AUDCAD\\assets\n"
     ]
    }
   ],
   "source": [
    "batch_size = 32\n",
    "window_size = 96\n",
    "nodes = [80, 64, 32, 480]\n",
    "time = 15\n",
    "optimizer = tf.keras.optimizers.Adam(learning_rate=0.0005)\n",
    "dropout = 0.2\n",
    "epochs = 10\n",
    "history = train_model(\"AUDCAD\", batch_size, window_size, time, nodes, optimizer, dropout, epochs)"
   ]
  },
  {
   "cell_type": "code",
   "execution_count": 4,
   "metadata": {},
   "outputs": [
    {
     "data": {
      "image/png": "[encoded data removed]",
      "text/plain": [
       "<Figure size 1152x720 with 1 Axes>"
      ]
     },
     "metadata": {
      "needs_background": "light"
     },
     "output_type": "display_data"
    }
   ],
   "source": [
    "visualize_loss(history)"
   ]
  },
  {
   "cell_type": "code",
   "execution_count": 5,
   "metadata": {},
   "outputs": [
    {
     "data": {
      "text/plain": [
       "Reusing TensorBoard on port 6006 (pid 18896), started 4 days, 14:52:34 ago. (Use '!kill 18896' to kill it.)"
      ]
     },
     "metadata": {},
     "output_type": "display_data"
    },
    {
     "data": {
      "text/html": [
       "\n",
       "      <iframe id=\"tensorboard-frame-ed1cf517f2d20738\" width=\"100%\" height=\"800\" frameborder=\"0\">\n",
       "      </iframe>\n",
       "      <script>\n",
       "        (function() {\n",
       "          const frame = document.getElementById(\"tensorboard-frame-ed1cf517f2d20738\");\n",
       "          const url = new URL(\"/\", window.location);\n",
       "          const port = 6006;\n",
       "          if (port) {\n",
       "            url.port = port;\n",
       "          }\n",
       "          frame.src = url;\n",
       "        })();\n",
       "      </script>\n",
       "    "
      ],
      "text/plain": [
       "<IPython.core.display.HTML object>"
      ]
     },
     "metadata": {},
     "output_type": "display_data"
    }
   ],
   "source": [
    "tensorboard --logdir logs/training"
   ]
  },
  {
   "cell_type": "code",
   "execution_count": null,
   "metadata": {},
   "outputs": [],
   "source": []
  }
 ],
 "metadata": {
  "kernelspec": {
   "display_name": "Python 3",
   "language": "python",
   "name": "python3"
  },
  "language_info": {
   "codemirror_mode": {
    "name": "ipython",
    "version": 3
   },
   "file_extension": ".py",
   "mimetype": "text/x-python",
   "name": "python",
   "nbconvert_exporter": "python",
   "pygments_lexer": "ipython3",
   "version": "3.8.8"
  }
 },
 "nbformat": 4,
 "nbformat_minor": 4
}
