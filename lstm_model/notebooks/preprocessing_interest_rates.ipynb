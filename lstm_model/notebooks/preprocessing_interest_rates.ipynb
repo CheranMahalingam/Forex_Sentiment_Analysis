{
 "cells": [
  {
   "cell_type": "code",
   "execution_count": 1,
   "metadata": {},
   "outputs": [],
   "source": [
    "import pandas as pd\n",
    "import numpy as np\n",
    "\n",
    "pd.set_option('display.max_rows', 10000)"
   ]
  },
  {
   "cell_type": "code",
   "execution_count": 2,
   "metadata": {},
   "outputs": [],
   "source": [
    "import datetime\n",
    "from datetime import datetime\n",
    "\n",
    "def ir_dataframe():\n",
    "    ir_data = pd.read_csv(\"../data/external/interest_rates/Interest_rates_2018-2020.csv\")\n",
    "    ir_data = ir_data.rename(columns={\"TIME\": \"Time\", \"Value\": \"Interest Rate\"})\n",
    "    ir_data = ir_data[{\"Time\", \"Interest Rate\"}]\n",
    "    ir_data[\"Time\"] = ir_data[\"Time\"].transform(lambda time : datetime.strptime(time, \"%Y-%m\").strftime(\"%Y-%m-%d %H:%M:%S\"))\n",
    "    \n",
    "    aud_ir = ir_data[13:49]\n",
    "    eur_ir = ir_data[356:392]\n",
    "    jpy_ir = ir_data[307:343]\n",
    "    gbp_ir = ir_data[258:294]\n",
    "    nzd_ir = ir_data[209:245]\n",
    "    usd_ir = ir_data[160:196]\n",
    "    chf_ir = ir_data[62:98]\n",
    "    cad_ir = ir_data[111:147]\n",
    "    \n",
    "    time_frame = pd.date_range(start=\"2018-01-01 22:00:00\", freq=\"1T\", end=\"2020-12-31 21:59:00\")\n",
    "    time_frame = pd.DataFrame(time_frame, columns=[\"Time\"])\n",
    "    time_frame[\"Time\"] = time_frame[\"Time\"].dt.strftime(\"%Y-%m-%d %H:%M:%S\")\n",
    "    \n",
    "    create_ir_csv(aud_ir, time_frame, aud_ir[\"Interest Rate\"].iloc[0]).to_csv(\"../data/processed/interest_rate/aud_ir_processed.csv\", index=False)\n",
    "    create_ir_csv(cad_ir, time_frame, cad_ir[\"Interest Rate\"].iloc[0]).to_csv(\"../data/processed/interest_rate/cad_ir_processed.csv\", index=False)\n",
    "    create_ir_csv(eur_ir, time_frame, eur_ir[\"Interest Rate\"].iloc[0]).to_csv(\"../data/processed/interest_rate/eur_ir_processed.csv\", index=False)\n",
    "    create_ir_csv(jpy_ir, time_frame, jpy_ir[\"Interest Rate\"].iloc[0]).to_csv(\"../data/processed/interest_rate/jpy_ir_processed.csv\", index=False)\n",
    "    create_ir_csv(gbp_ir, time_frame, gbp_ir[\"Interest Rate\"].iloc[0]).to_csv(\"../data/processed/interest_rate/gbp_ir_processed.csv\", index=False)\n",
    "    create_ir_csv(nzd_ir, time_frame, nzd_ir[\"Interest Rate\"].iloc[0]).to_csv(\"../data/processed/interest_rate/nzd_ir_processed.csv\", index=False)\n",
    "    create_ir_csv(usd_ir, time_frame, usd_ir[\"Interest Rate\"].iloc[0]).to_csv(\"../data/processed/interest_rate/usd_ir_processed.csv\", index=False)\n",
    "    create_ir_csv(chf_ir, time_frame, chf_ir[\"Interest Rate\"].iloc[0]).to_csv(\"../data/processed/interest_rate/chf_ir_processed.csv\", index=False)\n",
    "    \n",
    "def create_ir_csv(pair, time, initial):\n",
    "    pair = time.merge(pair, how=\"left\", on=\"Time\")\n",
    "    pair.iloc[0, pair.columns.get_loc(\"Interest Rate\")] = initial = initial\n",
    "    pair = pair.fillna(method=\"ffill\")\n",
    "    return pair\n",
    "\n",
    "ir_dataframe()"
   ]
  },
  {
   "cell_type": "code",
   "execution_count": null,
   "metadata": {},
   "outputs": [],
   "source": []
  }
 ],
 "metadata": {
  "kernelspec": {
   "display_name": "Python 3",
   "language": "python",
   "name": "python3"
  },
  "language_info": {
   "codemirror_mode": {
    "name": "ipython",
    "version": 3
   },
   "file_extension": ".py",
   "mimetype": "text/x-python",
   "name": "python",
   "nbconvert_exporter": "python",
   "pygments_lexer": "ipython3",
   "version": "3.8.5"
  }
 },
 "nbformat": 4,
 "nbformat_minor": 4
}